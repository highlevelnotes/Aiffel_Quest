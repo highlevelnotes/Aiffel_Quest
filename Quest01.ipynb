{
  "nbformat": 4,
  "nbformat_minor": 0,
  "metadata": {
    "colab": {
      "provenance": [],
      "authorship_tag": "ABX9TyO/6H1P6R/SRUPfV/DSSf6A",
      "include_colab_link": true
    },
    "kernelspec": {
      "name": "python3",
      "display_name": "Python 3"
    },
    "language_info": {
      "name": "python"
    }
  },
  "cells": [
    {
      "cell_type": "markdown",
      "metadata": {
        "id": "view-in-github",
        "colab_type": "text"
      },
      "source": [
        "<a href=\"https://colab.research.google.com/github/highlevelnotes/Aiffel_Quest/blob/main/Quest01.ipynb\" target=\"_parent\"><img src=\"https://colab.research.google.com/assets/colab-badge.svg\" alt=\"Open In Colab\"/></a>"
      ]
    },
    {
      "cell_type": "code",
      "execution_count": 101,
      "metadata": {
        "id": "515jsmy-ACp_"
      },
      "outputs": [],
      "source": [
        "import random\n",
        "\n",
        "acc_num_ex = str(random.randint(1,999)).zfill(3) + '-' + str(random.randint(1, 99)).zfill(2) + '-' + str(random.randint(1,999999)).zfill(6)\n",
        "\n",
        "class Account:\n",
        "  object_count = 0\n",
        "\n",
        "  def __init__(self, name, balance):\n",
        "    self.name = name\n",
        "    self.balance = balance\n",
        "    self.bank_name = 'SC은행'\n",
        "    self.account_num = acc_num_ex\n",
        "    self.deposit_count = 1\n",
        "    Account.object_count += 1\n",
        "    self.dep_history = ''\n",
        "    self.wit_history = ''\n",
        "\n",
        "  def get_account_num(self):\n",
        "    return Account.object_count\n",
        "\n",
        "  def deposit(self, amount):\n",
        "    if self.deposit_count < 5:  # 5회 이하로 입금했을 경우\n",
        "      if amount >= 1:\n",
        "        self.balance += amount\n",
        "        self.deposit_count += 1\n",
        "        self.dep_history += f'금액: {amount}, 계좌잔액: {self.balance}\\n'\n",
        "      else:\n",
        "        return \"1원 이상을 입금해주세요.\"\n",
        "    else:                       # 5회 이상 입금했을 경우\n",
        "      if amount >= 1:\n",
        "        self.balance += amount\n",
        "        self.balance *= 1.01\n",
        "        self.deposit_count = 1\n",
        "        self.dep_history += f'금액: {amount}, 계좌잔액: {self.balance}\\n'\n",
        "      else:\n",
        "        return \"1원 이상을 입금해주세요.\"\n",
        "\n",
        "  def withdraw(self, amount):\n",
        "    if amount > self.balance:\n",
        "      return \"잔액보다 출금액이 큽니다.\"\n",
        "    else:\n",
        "      self.balance -= amount\n",
        "      self.wit_history += f'금액: {amount}, 계좌잔액: {self.balance}\\n'\n",
        "\n",
        "  def display_info(self):\n",
        "    return f'은행이름: {self.bank_name}, 예금주: {self.name}, 계좌번호: {self.account_num}, 잔고: {self.balance: ,}원'\n",
        "\n",
        "  def deposit_history(self):\n",
        "    print(f'{self.dep_history}')\n",
        "\n",
        "  def withdraw_history(self):\n",
        "    print(f'{self.wit_history}')"
      ]
    },
    {
      "cell_type": "code",
      "source": [
        "a = Account('지우', 1000000)\n",
        "b = Account('혜미', 1500000)\n",
        "c = Account('정은', 800000)\n",
        "\n",
        "account_list = [a, b, c]"
      ],
      "metadata": {
        "id": "LXm6hI3_AKDY"
      },
      "execution_count": 102,
      "outputs": []
    },
    {
      "cell_type": "code",
      "source": [
        "for i in account_list:\n",
        "  if i.balance >= 1000000:\n",
        "    print(i.display_info())"
      ],
      "metadata": {
        "colab": {
          "base_uri": "https://localhost:8080/"
        },
        "id": "WrtcbniHINqK",
        "outputId": "a47e18bc-6516-4db2-bd65-7b2f90210cca"
      },
      "execution_count": 103,
      "outputs": [
        {
          "output_type": "stream",
          "name": "stdout",
          "text": [
            "은행이름: SC은행, 예금주: 지우, 계좌번호: 257-28-676319, 잔고:  1,000,000원\n",
            "은행이름: SC은행, 예금주: 혜미, 계좌번호: 257-28-676319, 잔고:  1,500,000원\n"
          ]
        }
      ]
    },
    {
      "cell_type": "code",
      "source": [
        "a.display_info()"
      ],
      "metadata": {
        "colab": {
          "base_uri": "https://localhost:8080/",
          "height": 35
        },
        "id": "WgPUIJVGLT9y",
        "outputId": "50501891-7d20-4312-a16c-b4b34e41f68c"
      },
      "execution_count": 104,
      "outputs": [
        {
          "output_type": "execute_result",
          "data": {
            "text/plain": [
              "'은행이름: SC은행, 예금주: 지우, 계좌번호: 257-28-676319, 잔고:  1,000,000원'"
            ],
            "application/vnd.google.colaboratory.intrinsic+json": {
              "type": "string"
            }
          },
          "metadata": {},
          "execution_count": 104
        }
      ]
    },
    {
      "cell_type": "code",
      "source": [
        "a.deposit(100)\n",
        "a.deposit(200)\n",
        "a.deposit(0)\n",
        "a.deposit(200000)\n",
        "a.deposit(400000)\n",
        "a.deposit(2000)"
      ],
      "metadata": {
        "id": "1duvETnvPXgu"
      },
      "execution_count": 108,
      "outputs": []
    },
    {
      "cell_type": "code",
      "source": [
        "a.deposit_history()"
      ],
      "metadata": {
        "colab": {
          "base_uri": "https://localhost:8080/"
        },
        "id": "ZeiDeGEWPiZu",
        "outputId": "e66e51eb-7574-47ae-fc05-22bb0c66dac3"
      },
      "execution_count": 109,
      "outputs": [
        {
          "output_type": "stream",
          "name": "stdout",
          "text": [
            "금액: 100, 계좌잔액: 1000100\n",
            "금액: 200, 계좌잔액: 1000300\n",
            "금액: 200000, 계좌잔액: 1200300\n",
            "금액: 400000, 계좌잔액: 1600300\n",
            "금액: 2000, 계좌잔액: 1618323.0\n",
            "\n"
          ]
        }
      ]
    },
    {
      "cell_type": "code",
      "source": [
        "a.get_account_num()"
      ],
      "metadata": {
        "colab": {
          "base_uri": "https://localhost:8080/"
        },
        "id": "5RaLJ0Z5P0GF",
        "outputId": "2ab35800-fbc1-414e-f948-ddf6471c7bf1"
      },
      "execution_count": 106,
      "outputs": [
        {
          "output_type": "execute_result",
          "data": {
            "text/plain": [
              "3"
            ]
          },
          "metadata": {},
          "execution_count": 106
        }
      ]
    },
    {
      "cell_type": "code",
      "source": [],
      "metadata": {
        "id": "4ek4AULzXMz2"
      },
      "execution_count": null,
      "outputs": []
    }
  ]
}